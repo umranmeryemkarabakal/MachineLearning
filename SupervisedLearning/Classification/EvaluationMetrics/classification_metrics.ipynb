{
 "cells": [
  {
   "cell_type": "code",
   "execution_count": 1,
   "metadata": {},
   "outputs": [],
   "source": [
    "import numpy as np\n",
    "import pandas as pd\n",
    "from sklearn.model_selection import train_test_split\n",
    "from sklearn.metrics import accuracy_score,precision_score,recall_score,f1_score\n",
    "from sklearn import datasets\n",
    "from sklearn import svm \n",
    "from sklearn.tree import DecisionTreeClassifier #ağaç algoritmaları \n",
    "from sklearn.naive_bayes import GaussianNB #naive bayes algoritması"
   ]
  },
  {
   "cell_type": "code",
   "execution_count": 2,
   "metadata": {},
   "outputs": [],
   "source": [
    "from os import X_OK"
   ]
  },
  {
   "cell_type": "code",
   "execution_count": 3,
   "metadata": {},
   "outputs": [],
   "source": [
    "# iris veriseti dahil edilmesi\n",
    "iris = datasets.load_iris()\n",
    "X = iris.data # iris data seti değişkenleri,verileri\n",
    "y = iris.target # data seti hedefleri\n",
    "\n",
    "#splitting X and y into training and testing sets\n",
    "X_train, X_test, y_train, y_test = train_test_split(X,y,test_size=0.3,random_state=1)\n",
    "# verilerin %30'u test verisi için ayrılır\n",
    "# random state, her seferinde aynı sonucu elde etmek için kullanılır"
   ]
  },
  {
   "cell_type": "code",
   "execution_count": 4,
   "metadata": {},
   "outputs": [
    {
     "name": "stdout",
     "output_type": "stream",
     "text": [
      "accuracy score of dt classifier:  0.9555555555555556\n",
      "precision score of dt classifier:  0.9555555555555556\n",
      "recall score of dt classifier:  0.9555555555555556\n",
      "f1 score of dt classifier:  0.9555555555555556\n"
     ]
    }
   ],
   "source": [
    "dt = DecisionTreeClassifier(random_state=0)\n",
    "dt.fit(X_train,y_train) #eğitim gerçekleşir\n",
    "dt_pred = dt.predict(X_test) #tahmin işlemi gerçekleşir\n",
    "\n",
    "# metriklerin hesaplanması\n",
    "print(\"accuracy score of dt classifier: \",accuracy_score(y_test,dt_pred)) \n",
    "print(\"precision score of dt classifier: \",precision_score(y_test,dt_pred,average=\"weighted\"))\n",
    "print(\"recall score of dt classifier: \",recall_score(y_test,dt_pred,average=\"weighted\"))\n",
    "print(\"f1 score of dt classifier: \",f1_score(y_test,dt_pred,average=\"weighted\"))"
   ]
  },
  {
   "cell_type": "code",
   "execution_count": 5,
   "metadata": {},
   "outputs": [
    {
     "name": "stdout",
     "output_type": "stream",
     "text": [
      "accuracy score of svm 1.0\n",
      "precision score of svm 1.0\n",
      "recall score of svm 1.0\n",
      "f1 score of svm 1.0\n"
     ]
    }
   ],
   "source": [
    "#svm modeli\n",
    "svm_clf = svm.SVC(kernel = 'linear') \n",
    "# svm algoritması doğrusal karar sınırı uygular,veriler doğrusal olarak ayrılabilir, kernel karar sınırı için çekirdektir\n",
    "svm_clf.fit(X_train,y_train)\n",
    "svm_clf_pred = svm_clf.predict(X_test) # x test değişkenine göre tahmin yapar\n",
    "\n",
    "# metrik hesaplamaları\n",
    "print(\"accuracy score of svm\",accuracy_score(y_test,svm_clf_pred))\n",
    "print(\"precision score of svm\",precision_score(y_test,svm_clf_pred,average=\"weighted\"))\n",
    "print(\"recall score of svm\",recall_score(y_test,svm_clf_pred,average=\"weighted\"))\n",
    "print(\"f1 score of svm\",f1_score(y_test,svm_clf_pred,average=\"weighted\"))\n",
    "# average sınıf dengesizliği durumunda ağırlıklı ortalama yapması içindir\n",
    "# veri seti dengesizse daha dengeli sonuç üretir"
   ]
  },
  {
   "cell_type": "code",
   "execution_count": 6,
   "metadata": {},
   "outputs": [],
   "source": [
    "# accuracy score: Doğru tahmin edilen örneklerin, toplam örneklere oranıdır. Genel performansı gösterir.\n",
    "# precision score: Pozitif olarak tahmin edilenlerin ne kadarının gerçekten pozitif olduğunu ölçer. Yanlış pozitifleri azaltmaya odaklanır.\n",
    "# Recall score: Gerçek pozitiflerin ne kadarının doğru şekilde pozitif olarak tahmin edildiğini gösterir. Yanlış negatifleri azaltmaya çalışır.\n",
    "# f1 score: Precision ve recall'un harmonik ortalamasıdır. Dengesiz veri setlerinde dengeli bir performans ölçümü sağlar."
   ]
  },
  {
   "cell_type": "code",
   "execution_count": null,
   "metadata": {},
   "outputs": [],
   "source": []
  }
 ],
 "metadata": {
  "kernelspec": {
   "display_name": "Python 3",
   "language": "python",
   "name": "python3"
  },
  "language_info": {
   "codemirror_mode": {
    "name": "ipython",
    "version": 3
   },
   "file_extension": ".py",
   "mimetype": "text/x-python",
   "name": "python",
   "nbconvert_exporter": "python",
   "pygments_lexer": "ipython3",
   "version": "3.12.4"
  }
 },
 "nbformat": 4,
 "nbformat_minor": 2
}
